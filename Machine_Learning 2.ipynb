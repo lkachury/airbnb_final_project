{
 "cells": [
  {
   "cell_type": "markdown",
   "id": "c47b47e7",
   "metadata": {},
   "source": [
    "## Machine Learning Models\n",
    "### Linear Regression"
   ]
  },
  {
   "cell_type": "code",
   "execution_count": 33,
   "id": "e5041269",
   "metadata": {},
   "outputs": [],
   "source": [
    "# Import dependencies\n",
    "import pandas as pd\n",
    "import matplotlib.pyplot as plt\n",
    "from sklearn.preprocessing import LabelEncoder\n",
    "from sklearn.linear_model import LinearRegression\n",
    "from sklearn.ensemble import RandomForestClassifier\n",
    "from sklearn.preprocessing import StandardScaler\n",
    "from sklearn.model_selection import train_test_split\n",
    "from sklearn.metrics import confusion_matrix, accuracy_score, classification_report\n",
    "from sklearn.metrics import mean_squared_error"
   ]
  },
  {
   "cell_type": "code",
   "execution_count": 34,
   "id": "e70c10f5",
   "metadata": {
    "scrolled": false
   },
   "outputs": [
    {
     "data": {
      "text/html": [
       "<div>\n",
       "<style scoped>\n",
       "    .dataframe tbody tr th:only-of-type {\n",
       "        vertical-align: middle;\n",
       "    }\n",
       "\n",
       "    .dataframe tbody tr th {\n",
       "        vertical-align: top;\n",
       "    }\n",
       "\n",
       "    .dataframe thead th {\n",
       "        text-align: right;\n",
       "    }\n",
       "</style>\n",
       "<table border=\"1\" class=\"dataframe\">\n",
       "  <thead>\n",
       "    <tr style=\"text-align: right;\">\n",
       "      <th></th>\n",
       "      <th>id</th>\n",
       "      <th>name</th>\n",
       "      <th>host_id</th>\n",
       "      <th>host_name</th>\n",
       "      <th>borough</th>\n",
       "      <th>neighborhood</th>\n",
       "      <th>latitude</th>\n",
       "      <th>longitude</th>\n",
       "      <th>room_type</th>\n",
       "      <th>price</th>\n",
       "      <th>minimum_nights</th>\n",
       "      <th>number_of_reviews</th>\n",
       "      <th>availability_365</th>\n",
       "      <th>days_since_last_review</th>\n",
       "    </tr>\n",
       "  </thead>\n",
       "  <tbody>\n",
       "    <tr>\n",
       "      <th>0</th>\n",
       "      <td>77765</td>\n",
       "      <td>Superior @ Box House</td>\n",
       "      <td>417504</td>\n",
       "      <td>The Box House Hotel</td>\n",
       "      <td>Brooklyn</td>\n",
       "      <td>Greenpoint</td>\n",
       "      <td>40.737770</td>\n",
       "      <td>-73.953660</td>\n",
       "      <td>Hotel room</td>\n",
       "      <td>308</td>\n",
       "      <td>2</td>\n",
       "      <td>42</td>\n",
       "      <td>217</td>\n",
       "      <td>51</td>\n",
       "    </tr>\n",
       "    <tr>\n",
       "      <th>1</th>\n",
       "      <td>2539</td>\n",
       "      <td>Clean &amp; quiet apt home by the park</td>\n",
       "      <td>2787</td>\n",
       "      <td>John</td>\n",
       "      <td>Brooklyn</td>\n",
       "      <td>Kensington</td>\n",
       "      <td>40.645290</td>\n",
       "      <td>-73.972380</td>\n",
       "      <td>Private room</td>\n",
       "      <td>299</td>\n",
       "      <td>30</td>\n",
       "      <td>9</td>\n",
       "      <td>356</td>\n",
       "      <td>1419</td>\n",
       "    </tr>\n",
       "    <tr>\n",
       "      <th>2</th>\n",
       "      <td>45910</td>\n",
       "      <td>Beautiful Queens Brownstone! - 5BR</td>\n",
       "      <td>204539</td>\n",
       "      <td>Mark</td>\n",
       "      <td>Queens</td>\n",
       "      <td>Ridgewood</td>\n",
       "      <td>40.703090</td>\n",
       "      <td>-73.899630</td>\n",
       "      <td>Entire home/apt</td>\n",
       "      <td>425</td>\n",
       "      <td>30</td>\n",
       "      <td>13</td>\n",
       "      <td>365</td>\n",
       "      <td>1030</td>\n",
       "    </tr>\n",
       "    <tr>\n",
       "      <th>3</th>\n",
       "      <td>45936</td>\n",
       "      <td>Couldn't Be Closer To Columbia Uni</td>\n",
       "      <td>867225</td>\n",
       "      <td>Rahul</td>\n",
       "      <td>Manhattan</td>\n",
       "      <td>Morningside Heights</td>\n",
       "      <td>40.806300</td>\n",
       "      <td>-73.959850</td>\n",
       "      <td>Private room</td>\n",
       "      <td>75</td>\n",
       "      <td>31</td>\n",
       "      <td>135</td>\n",
       "      <td>219</td>\n",
       "      <td>58</td>\n",
       "    </tr>\n",
       "    <tr>\n",
       "      <th>4</th>\n",
       "      <td>80493</td>\n",
       "      <td>Cozy room in East Village with AC</td>\n",
       "      <td>434987</td>\n",
       "      <td>Jennifer</td>\n",
       "      <td>Manhattan</td>\n",
       "      <td>East Village</td>\n",
       "      <td>40.723220</td>\n",
       "      <td>-73.986150</td>\n",
       "      <td>Private room</td>\n",
       "      <td>55</td>\n",
       "      <td>2</td>\n",
       "      <td>207</td>\n",
       "      <td>132</td>\n",
       "      <td>25</td>\n",
       "    </tr>\n",
       "    <tr>\n",
       "      <th>...</th>\n",
       "      <td>...</td>\n",
       "      <td>...</td>\n",
       "      <td>...</td>\n",
       "      <td>...</td>\n",
       "      <td>...</td>\n",
       "      <td>...</td>\n",
       "      <td>...</td>\n",
       "      <td>...</td>\n",
       "      <td>...</td>\n",
       "      <td>...</td>\n",
       "      <td>...</td>\n",
       "      <td>...</td>\n",
       "      <td>...</td>\n",
       "      <td>...</td>\n",
       "    </tr>\n",
       "    <tr>\n",
       "      <th>31500</th>\n",
       "      <td>628769808856889664</td>\n",
       "      <td>Two bedroom apartment in Hoboken New Jersey.</td>\n",
       "      <td>14468718</td>\n",
       "      <td>Burak</td>\n",
       "      <td>Manhattan</td>\n",
       "      <td>West Village</td>\n",
       "      <td>40.740227</td>\n",
       "      <td>-74.027504</td>\n",
       "      <td>Entire home/apt</td>\n",
       "      <td>410</td>\n",
       "      <td>3</td>\n",
       "      <td>2</td>\n",
       "      <td>0</td>\n",
       "      <td>40</td>\n",
       "    </tr>\n",
       "    <tr>\n",
       "      <th>31501</th>\n",
       "      <td>27577588</td>\n",
       "      <td>Luxury Studio ON Grove Street E0C - B1CA</td>\n",
       "      <td>37412692</td>\n",
       "      <td>Kim</td>\n",
       "      <td>Manhattan</td>\n",
       "      <td>Ellis Island</td>\n",
       "      <td>40.718220</td>\n",
       "      <td>-74.037940</td>\n",
       "      <td>Entire home/apt</td>\n",
       "      <td>135</td>\n",
       "      <td>365</td>\n",
       "      <td>2</td>\n",
       "      <td>365</td>\n",
       "      <td>1087</td>\n",
       "    </tr>\n",
       "    <tr>\n",
       "      <th>31502</th>\n",
       "      <td>654151117629853651</td>\n",
       "      <td>Lovely 3- bedroom apartment</td>\n",
       "      <td>117540494</td>\n",
       "      <td>Miriam</td>\n",
       "      <td>Queens</td>\n",
       "      <td>Rosedale</td>\n",
       "      <td>40.647244</td>\n",
       "      <td>-73.720088</td>\n",
       "      <td>Entire home/apt</td>\n",
       "      <td>180</td>\n",
       "      <td>1</td>\n",
       "      <td>5</td>\n",
       "      <td>0</td>\n",
       "      <td>14</td>\n",
       "    </tr>\n",
       "    <tr>\n",
       "      <th>31503</th>\n",
       "      <td>553754115911961053</td>\n",
       "      <td>Trendy 3-bedroom apartment near Manhattan</td>\n",
       "      <td>15048320</td>\n",
       "      <td>India</td>\n",
       "      <td>Manhattan</td>\n",
       "      <td>Upper West Side</td>\n",
       "      <td>40.787320</td>\n",
       "      <td>-74.004470</td>\n",
       "      <td>Entire home/apt</td>\n",
       "      <td>240</td>\n",
       "      <td>5</td>\n",
       "      <td>18</td>\n",
       "      <td>152</td>\n",
       "      <td>16</td>\n",
       "    </tr>\n",
       "    <tr>\n",
       "      <th>31504</th>\n",
       "      <td>48971505</td>\n",
       "      <td>Just Blocks to Grove PATH and JC Med Ctr</td>\n",
       "      <td>46201</td>\n",
       "      <td>J</td>\n",
       "      <td>Manhattan</td>\n",
       "      <td>Ellis Island</td>\n",
       "      <td>40.718350</td>\n",
       "      <td>-74.044160</td>\n",
       "      <td>Private room</td>\n",
       "      <td>40</td>\n",
       "      <td>1</td>\n",
       "      <td>15</td>\n",
       "      <td>0</td>\n",
       "      <td>317</td>\n",
       "    </tr>\n",
       "  </tbody>\n",
       "</table>\n",
       "<p>31505 rows × 14 columns</p>\n",
       "</div>"
      ],
      "text/plain": [
       "                       id                                          name  \\\n",
       "0                   77765                          Superior @ Box House   \n",
       "1                    2539            Clean & quiet apt home by the park   \n",
       "2                   45910            Beautiful Queens Brownstone! - 5BR   \n",
       "3                   45936            Couldn't Be Closer To Columbia Uni   \n",
       "4                   80493             Cozy room in East Village with AC   \n",
       "...                   ...                                           ...   \n",
       "31500  628769808856889664  Two bedroom apartment in Hoboken New Jersey.   \n",
       "31501            27577588      Luxury Studio ON Grove Street E0C - B1CA   \n",
       "31502  654151117629853651                   Lovely 3- bedroom apartment   \n",
       "31503  553754115911961053     Trendy 3-bedroom apartment near Manhattan   \n",
       "31504            48971505      Just Blocks to Grove PATH and JC Med Ctr   \n",
       "\n",
       "         host_id            host_name    borough         neighborhood  \\\n",
       "0         417504  The Box House Hotel   Brooklyn           Greenpoint   \n",
       "1           2787                 John   Brooklyn           Kensington   \n",
       "2         204539                 Mark     Queens            Ridgewood   \n",
       "3         867225                Rahul  Manhattan  Morningside Heights   \n",
       "4         434987             Jennifer  Manhattan         East Village   \n",
       "...          ...                  ...        ...                  ...   \n",
       "31500   14468718                Burak  Manhattan         West Village   \n",
       "31501   37412692                  Kim  Manhattan         Ellis Island   \n",
       "31502  117540494               Miriam     Queens             Rosedale   \n",
       "31503   15048320                India  Manhattan      Upper West Side   \n",
       "31504      46201                    J  Manhattan         Ellis Island   \n",
       "\n",
       "        latitude  longitude        room_type  price  minimum_nights  \\\n",
       "0      40.737770 -73.953660       Hotel room    308               2   \n",
       "1      40.645290 -73.972380     Private room    299              30   \n",
       "2      40.703090 -73.899630  Entire home/apt    425              30   \n",
       "3      40.806300 -73.959850     Private room     75              31   \n",
       "4      40.723220 -73.986150     Private room     55               2   \n",
       "...          ...        ...              ...    ...             ...   \n",
       "31500  40.740227 -74.027504  Entire home/apt    410               3   \n",
       "31501  40.718220 -74.037940  Entire home/apt    135             365   \n",
       "31502  40.647244 -73.720088  Entire home/apt    180               1   \n",
       "31503  40.787320 -74.004470  Entire home/apt    240               5   \n",
       "31504  40.718350 -74.044160     Private room     40               1   \n",
       "\n",
       "       number_of_reviews  availability_365  days_since_last_review  \n",
       "0                     42               217                      51  \n",
       "1                      9               356                    1419  \n",
       "2                     13               365                    1030  \n",
       "3                    135               219                      58  \n",
       "4                    207               132                      25  \n",
       "...                  ...               ...                     ...  \n",
       "31500                  2                 0                      40  \n",
       "31501                  2               365                    1087  \n",
       "31502                  5                 0                      14  \n",
       "31503                 18               152                      16  \n",
       "31504                 15                 0                     317  \n",
       "\n",
       "[31505 rows x 14 columns]"
      ]
     },
     "execution_count": 34,
     "metadata": {},
     "output_type": "execute_result"
    }
   ],
   "source": [
    "# Read in the clean csv\n",
    "listings_df = pd.read_csv(\"Resources/clean_nyc_listings.csv\")\n",
    "listings_df"
   ]
  },
  {
   "cell_type": "code",
   "execution_count": 35,
   "id": "8f5ddb9f",
   "metadata": {},
   "outputs": [
    {
     "data": {
      "text/plain": [
       "id                          int64\n",
       "name                       object\n",
       "host_id                     int64\n",
       "host_name                  object\n",
       "borough                    object\n",
       "neighborhood               object\n",
       "latitude                  float64\n",
       "longitude                 float64\n",
       "room_type                  object\n",
       "price                       int64\n",
       "minimum_nights              int64\n",
       "number_of_reviews           int64\n",
       "availability_365            int64\n",
       "days_since_last_review      int64\n",
       "dtype: object"
      ]
     },
     "execution_count": 35,
     "metadata": {},
     "output_type": "execute_result"
    }
   ],
   "source": [
    "listings_df.dtypes"
   ]
  },
  {
   "cell_type": "code",
   "execution_count": 36,
   "id": "4ee26b7d",
   "metadata": {},
   "outputs": [
    {
     "data": {
      "text/plain": [
       "<AxesSubplot:xlabel='Borough', ylabel='Listings Count'>"
      ]
     },
     "execution_count": 36,
     "metadata": {},
     "output_type": "execute_result"
    },
    {
     "data": {
      "image/png": "[encoded data removed]",
      "text/plain": [
       "<Figure size 640x480 with 1 Axes>"
      ]
     },
     "metadata": {},
     "output_type": "display_data"
    }
   ],
   "source": [
    "# Create bar plot to visualize frequency of each borough\n",
    "listings_df['borough'].value_counts().plot(kind='bar', xlabel='Borough', ylabel='Listings Count', rot=0)"
   ]
  },
  {
   "cell_type": "code",
   "execution_count": 37,
   "id": "d2cfa4b7",
   "metadata": {},
   "outputs": [
    {
     "data": {
      "text/plain": [
       "<AxesSubplot:xlabel='Room Type', ylabel='Listings Count'>"
      ]
     },
     "execution_count": 37,
     "metadata": {},
     "output_type": "execute_result"
    },
    {
     "data": {
      "image/png": "[encoded data removed]",
      "text/plain": [
       "<Figure size 640x480 with 1 Axes>"
      ]
     },
     "metadata": {},
     "output_type": "display_data"
    }
   ],
   "source": [
    "# Create bar plot to visualize frequency of each room type\n",
    "listings_df[\"room_type\"].value_counts().plot(kind='bar', xlabel=\"Room Type\", ylabel='Listings Count', rot=0)"
   ]
  },
  {
   "cell_type": "code",
   "execution_count": 38,
   "id": "d11884bf",
   "metadata": {
    "scrolled": false
   },
   "outputs": [
    {
     "data": {
      "image/png": "[encoded data removed]",
      "text/plain": [
       "<Figure size 640x480 with 1 Axes>"
      ]
     },
     "metadata": {},
     "output_type": "display_data"
    }
   ],
   "source": [
    "# Visually inspect the relationship between Last Review Date and Price:\n",
    "plt.scatter(listings_df.days_since_last_review, listings_df.price)\n",
    "plt.xlabel(\"Days Since Last Review\")\n",
    "plt.ylabel(\"Listing Price ($)\")\n",
    "plt.show()"
   ]
  },
  {
   "cell_type": "code",
   "execution_count": 39,
   "id": "80d2c1dc",
   "metadata": {},
   "outputs": [
    {
     "data": {
      "image/png": "[encoded data removed]",
      "text/plain": [
       "<Figure size 640x480 with 1 Axes>"
      ]
     },
     "metadata": {},
     "output_type": "display_data"
    }
   ],
   "source": [
    "# Visually inspect the relationship between Borough and Price:\n",
    "plt.scatter(listings_df.borough, listings_df.price)\n",
    "plt.xlabel(\"Borough\")\n",
    "plt.ylabel(\"Listing Price ($)\")\n",
    "plt.show()"
   ]
  },
  {
   "cell_type": "code",
   "execution_count": 40,
   "id": "50491150",
   "metadata": {},
   "outputs": [
    {
     "data": {
      "image/png": "[encoded data removed]",
      "text/plain": [
       "<Figure size 640x480 with 1 Axes>"
      ]
     },
     "metadata": {},
     "output_type": "display_data"
    }
   ],
   "source": [
    "# Visually inspect the relationship between Room Type and Price:\n",
    "plt.scatter(listings_df.room_type, listings_df.price)\n",
    "plt.xlabel(\"Room Type\")\n",
    "plt.ylabel(\"Listing Price ($)\")\n",
    "plt.show()"
   ]
  },
  {
   "cell_type": "code",
   "execution_count": 41,
   "id": "9eb199a6",
   "metadata": {},
   "outputs": [
    {
     "data": {
      "text/html": [
       "<div>\n",
       "<style scoped>\n",
       "    .dataframe tbody tr th:only-of-type {\n",
       "        vertical-align: middle;\n",
       "    }\n",
       "\n",
       "    .dataframe tbody tr th {\n",
       "        vertical-align: top;\n",
       "    }\n",
       "\n",
       "    .dataframe thead th {\n",
       "        text-align: right;\n",
       "    }\n",
       "</style>\n",
       "<table border=\"1\" class=\"dataframe\">\n",
       "  <thead>\n",
       "    <tr style=\"text-align: right;\">\n",
       "      <th></th>\n",
       "      <th>id</th>\n",
       "      <th>name</th>\n",
       "      <th>host_id</th>\n",
       "      <th>host_name</th>\n",
       "      <th>borough</th>\n",
       "      <th>neighborhood</th>\n",
       "      <th>latitude</th>\n",
       "      <th>longitude</th>\n",
       "      <th>room_type</th>\n",
       "      <th>price</th>\n",
       "      <th>minimum_nights</th>\n",
       "      <th>number_of_reviews</th>\n",
       "      <th>availability_365</th>\n",
       "      <th>days_since_last_review</th>\n",
       "      <th>borough_num</th>\n",
       "    </tr>\n",
       "  </thead>\n",
       "  <tbody>\n",
       "    <tr>\n",
       "      <th>0</th>\n",
       "      <td>77765</td>\n",
       "      <td>Superior @ Box House</td>\n",
       "      <td>417504</td>\n",
       "      <td>The Box House Hotel</td>\n",
       "      <td>Brooklyn</td>\n",
       "      <td>Greenpoint</td>\n",
       "      <td>40.73777</td>\n",
       "      <td>-73.95366</td>\n",
       "      <td>Hotel room</td>\n",
       "      <td>308</td>\n",
       "      <td>2</td>\n",
       "      <td>42</td>\n",
       "      <td>217</td>\n",
       "      <td>51</td>\n",
       "      <td>2</td>\n",
       "    </tr>\n",
       "    <tr>\n",
       "      <th>1</th>\n",
       "      <td>2539</td>\n",
       "      <td>Clean &amp; quiet apt home by the park</td>\n",
       "      <td>2787</td>\n",
       "      <td>John</td>\n",
       "      <td>Brooklyn</td>\n",
       "      <td>Kensington</td>\n",
       "      <td>40.64529</td>\n",
       "      <td>-73.97238</td>\n",
       "      <td>Private room</td>\n",
       "      <td>299</td>\n",
       "      <td>30</td>\n",
       "      <td>9</td>\n",
       "      <td>356</td>\n",
       "      <td>1419</td>\n",
       "      <td>2</td>\n",
       "    </tr>\n",
       "    <tr>\n",
       "      <th>2</th>\n",
       "      <td>45910</td>\n",
       "      <td>Beautiful Queens Brownstone! - 5BR</td>\n",
       "      <td>204539</td>\n",
       "      <td>Mark</td>\n",
       "      <td>Queens</td>\n",
       "      <td>Ridgewood</td>\n",
       "      <td>40.70309</td>\n",
       "      <td>-73.89963</td>\n",
       "      <td>Entire home/apt</td>\n",
       "      <td>425</td>\n",
       "      <td>30</td>\n",
       "      <td>13</td>\n",
       "      <td>365</td>\n",
       "      <td>1030</td>\n",
       "      <td>3</td>\n",
       "    </tr>\n",
       "    <tr>\n",
       "      <th>3</th>\n",
       "      <td>45936</td>\n",
       "      <td>Couldn't Be Closer To Columbia Uni</td>\n",
       "      <td>867225</td>\n",
       "      <td>Rahul</td>\n",
       "      <td>Manhattan</td>\n",
       "      <td>Morningside Heights</td>\n",
       "      <td>40.80630</td>\n",
       "      <td>-73.95985</td>\n",
       "      <td>Private room</td>\n",
       "      <td>75</td>\n",
       "      <td>31</td>\n",
       "      <td>135</td>\n",
       "      <td>219</td>\n",
       "      <td>58</td>\n",
       "      <td>1</td>\n",
       "    </tr>\n",
       "    <tr>\n",
       "      <th>4</th>\n",
       "      <td>80493</td>\n",
       "      <td>Cozy room in East Village with AC</td>\n",
       "      <td>434987</td>\n",
       "      <td>Jennifer</td>\n",
       "      <td>Manhattan</td>\n",
       "      <td>East Village</td>\n",
       "      <td>40.72322</td>\n",
       "      <td>-73.98615</td>\n",
       "      <td>Private room</td>\n",
       "      <td>55</td>\n",
       "      <td>2</td>\n",
       "      <td>207</td>\n",
       "      <td>132</td>\n",
       "      <td>25</td>\n",
       "      <td>1</td>\n",
       "    </tr>\n",
       "  </tbody>\n",
       "</table>\n",
       "</div>"
      ],
      "text/plain": [
       "      id                                name  host_id            host_name  \\\n",
       "0  77765                Superior @ Box House   417504  The Box House Hotel   \n",
       "1   2539  Clean & quiet apt home by the park     2787                 John   \n",
       "2  45910  Beautiful Queens Brownstone! - 5BR   204539                 Mark   \n",
       "3  45936  Couldn't Be Closer To Columbia Uni   867225                Rahul   \n",
       "4  80493   Cozy room in East Village with AC   434987             Jennifer   \n",
       "\n",
       "     borough         neighborhood  latitude  longitude        room_type  \\\n",
       "0   Brooklyn           Greenpoint  40.73777  -73.95366       Hotel room   \n",
       "1   Brooklyn           Kensington  40.64529  -73.97238     Private room   \n",
       "2     Queens            Ridgewood  40.70309  -73.89963  Entire home/apt   \n",
       "3  Manhattan  Morningside Heights  40.80630  -73.95985     Private room   \n",
       "4  Manhattan         East Village  40.72322  -73.98615     Private room   \n",
       "\n",
       "   price  minimum_nights  number_of_reviews  availability_365  \\\n",
       "0    308               2                 42               217   \n",
       "1    299              30                  9               356   \n",
       "2    425              30                 13               365   \n",
       "3     75              31                135               219   \n",
       "4     55               2                207               132   \n",
       "\n",
       "   days_since_last_review  borough_num  \n",
       "0                      51            2  \n",
       "1                    1419            2  \n",
       "2                    1030            3  \n",
       "3                      58            1  \n",
       "4                      25            1  "
      ]
     },
     "execution_count": 41,
     "metadata": {},
     "output_type": "execute_result"
    }
   ],
   "source": [
    "# Create custom encoding for the boroughs\n",
    "borough_num = {\n",
    "   \"Manhattan\": 1,\n",
    "   \"Brooklyn\": 2,\n",
    "   \"Queens\": 3,\n",
    "   \"Bronx\": 4,\n",
    "   \"Staten Island\": 5,\n",
    "}\n",
    "\n",
    "listings_df[\"borough_num\"] = listings_df[\"borough\"].apply(lambda x: borough_num[x])\n",
    "listings_df.head()"
   ]
  },
  {
   "cell_type": "code",
   "execution_count": 42,
   "id": "0ff62a83",
   "metadata": {},
   "outputs": [
    {
     "data": {
      "text/html": [
       "<div>\n",
       "<style scoped>\n",
       "    .dataframe tbody tr th:only-of-type {\n",
       "        vertical-align: middle;\n",
       "    }\n",
       "\n",
       "    .dataframe tbody tr th {\n",
       "        vertical-align: top;\n",
       "    }\n",
       "\n",
       "    .dataframe thead th {\n",
       "        text-align: right;\n",
       "    }\n",
       "</style>\n",
       "<table border=\"1\" class=\"dataframe\">\n",
       "  <thead>\n",
       "    <tr style=\"text-align: right;\">\n",
       "      <th></th>\n",
       "      <th>id</th>\n",
       "      <th>name</th>\n",
       "      <th>host_id</th>\n",
       "      <th>host_name</th>\n",
       "      <th>borough</th>\n",
       "      <th>neighborhood</th>\n",
       "      <th>latitude</th>\n",
       "      <th>longitude</th>\n",
       "      <th>room_type</th>\n",
       "      <th>price</th>\n",
       "      <th>minimum_nights</th>\n",
       "      <th>number_of_reviews</th>\n",
       "      <th>availability_365</th>\n",
       "      <th>days_since_last_review</th>\n",
       "      <th>borough_num</th>\n",
       "      <th>neighborhood_num</th>\n",
       "    </tr>\n",
       "  </thead>\n",
       "  <tbody>\n",
       "    <tr>\n",
       "      <th>0</th>\n",
       "      <td>77765</td>\n",
       "      <td>Superior @ Box House</td>\n",
       "      <td>417504</td>\n",
       "      <td>The Box House Hotel</td>\n",
       "      <td>Brooklyn</td>\n",
       "      <td>Greenpoint</td>\n",
       "      <td>40.73777</td>\n",
       "      <td>-73.95366</td>\n",
       "      <td>Hotel room</td>\n",
       "      <td>308</td>\n",
       "      <td>2</td>\n",
       "      <td>42</td>\n",
       "      <td>217</td>\n",
       "      <td>51</td>\n",
       "      <td>2</td>\n",
       "      <td>104</td>\n",
       "    </tr>\n",
       "    <tr>\n",
       "      <th>1</th>\n",
       "      <td>2539</td>\n",
       "      <td>Clean &amp; quiet apt home by the park</td>\n",
       "      <td>2787</td>\n",
       "      <td>John</td>\n",
       "      <td>Brooklyn</td>\n",
       "      <td>Kensington</td>\n",
       "      <td>40.64529</td>\n",
       "      <td>-73.97238</td>\n",
       "      <td>Private room</td>\n",
       "      <td>299</td>\n",
       "      <td>30</td>\n",
       "      <td>9</td>\n",
       "      <td>356</td>\n",
       "      <td>1419</td>\n",
       "      <td>2</td>\n",
       "      <td>122</td>\n",
       "    </tr>\n",
       "    <tr>\n",
       "      <th>2</th>\n",
       "      <td>45910</td>\n",
       "      <td>Beautiful Queens Brownstone! - 5BR</td>\n",
       "      <td>204539</td>\n",
       "      <td>Mark</td>\n",
       "      <td>Queens</td>\n",
       "      <td>Ridgewood</td>\n",
       "      <td>40.70309</td>\n",
       "      <td>-73.89963</td>\n",
       "      <td>Entire home/apt</td>\n",
       "      <td>425</td>\n",
       "      <td>30</td>\n",
       "      <td>13</td>\n",
       "      <td>365</td>\n",
       "      <td>1030</td>\n",
       "      <td>3</td>\n",
       "      <td>185</td>\n",
       "    </tr>\n",
       "    <tr>\n",
       "      <th>3</th>\n",
       "      <td>45936</td>\n",
       "      <td>Couldn't Be Closer To Columbia Uni</td>\n",
       "      <td>867225</td>\n",
       "      <td>Rahul</td>\n",
       "      <td>Manhattan</td>\n",
       "      <td>Morningside Heights</td>\n",
       "      <td>40.80630</td>\n",
       "      <td>-73.95985</td>\n",
       "      <td>Private room</td>\n",
       "      <td>75</td>\n",
       "      <td>31</td>\n",
       "      <td>135</td>\n",
       "      <td>219</td>\n",
       "      <td>58</td>\n",
       "      <td>1</td>\n",
       "      <td>146</td>\n",
       "    </tr>\n",
       "    <tr>\n",
       "      <th>4</th>\n",
       "      <td>80493</td>\n",
       "      <td>Cozy room in East Village with AC</td>\n",
       "      <td>434987</td>\n",
       "      <td>Jennifer</td>\n",
       "      <td>Manhattan</td>\n",
       "      <td>East Village</td>\n",
       "      <td>40.72322</td>\n",
       "      <td>-73.98615</td>\n",
       "      <td>Private room</td>\n",
       "      <td>55</td>\n",
       "      <td>2</td>\n",
       "      <td>207</td>\n",
       "      <td>132</td>\n",
       "      <td>25</td>\n",
       "      <td>1</td>\n",
       "      <td>70</td>\n",
       "    </tr>\n",
       "  </tbody>\n",
       "</table>\n",
       "</div>"
      ],
      "text/plain": [
       "      id                                name  host_id            host_name  \\\n",
       "0  77765                Superior @ Box House   417504  The Box House Hotel   \n",
       "1   2539  Clean & quiet apt home by the park     2787                 John   \n",
       "2  45910  Beautiful Queens Brownstone! - 5BR   204539                 Mark   \n",
       "3  45936  Couldn't Be Closer To Columbia Uni   867225                Rahul   \n",
       "4  80493   Cozy room in East Village with AC   434987             Jennifer   \n",
       "\n",
       "     borough         neighborhood  latitude  longitude        room_type  \\\n",
       "0   Brooklyn           Greenpoint  40.73777  -73.95366       Hotel room   \n",
       "1   Brooklyn           Kensington  40.64529  -73.97238     Private room   \n",
       "2     Queens            Ridgewood  40.70309  -73.89963  Entire home/apt   \n",
       "3  Manhattan  Morningside Heights  40.80630  -73.95985     Private room   \n",
       "4  Manhattan         East Village  40.72322  -73.98615     Private room   \n",
       "\n",
       "   price  minimum_nights  number_of_reviews  availability_365  \\\n",
       "0    308               2                 42               217   \n",
       "1    299              30                  9               356   \n",
       "2    425              30                 13               365   \n",
       "3     75              31                135               219   \n",
       "4     55               2                207               132   \n",
       "\n",
       "   days_since_last_review  borough_num  neighborhood_num  \n",
       "0                      51            2               104  \n",
       "1                    1419            2               122  \n",
       "2                    1030            3               185  \n",
       "3                      58            1               146  \n",
       "4                      25            1                70  "
      ]
     },
     "execution_count": 42,
     "metadata": {},
     "output_type": "execute_result"
    }
   ],
   "source": [
    "# Encode neighborhood labels with Scikit-learn\n",
    "le = LabelEncoder()\n",
    "listings_df[\"neighborhood_num\"] = le.fit_transform(listings_df[\"neighborhood\"])\n",
    "listings_df.head()"
   ]
  },
  {
   "cell_type": "code",
   "execution_count": 43,
   "id": "87da7873",
   "metadata": {},
   "outputs": [
    {
     "data": {
      "text/html": [
       "<div>\n",
       "<style scoped>\n",
       "    .dataframe tbody tr th:only-of-type {\n",
       "        vertical-align: middle;\n",
       "    }\n",
       "\n",
       "    .dataframe tbody tr th {\n",
       "        vertical-align: top;\n",
       "    }\n",
       "\n",
       "    .dataframe thead th {\n",
       "        text-align: right;\n",
       "    }\n",
       "</style>\n",
       "<table border=\"1\" class=\"dataframe\">\n",
       "  <thead>\n",
       "    <tr style=\"text-align: right;\">\n",
       "      <th></th>\n",
       "      <th>id</th>\n",
       "      <th>name</th>\n",
       "      <th>host_id</th>\n",
       "      <th>host_name</th>\n",
       "      <th>borough</th>\n",
       "      <th>neighborhood</th>\n",
       "      <th>latitude</th>\n",
       "      <th>longitude</th>\n",
       "      <th>room_type</th>\n",
       "      <th>price</th>\n",
       "      <th>minimum_nights</th>\n",
       "      <th>number_of_reviews</th>\n",
       "      <th>availability_365</th>\n",
       "      <th>days_since_last_review</th>\n",
       "      <th>borough_num</th>\n",
       "      <th>neighborhood_num</th>\n",
       "      <th>room_type_num</th>\n",
       "    </tr>\n",
       "  </thead>\n",
       "  <tbody>\n",
       "    <tr>\n",
       "      <th>0</th>\n",
       "      <td>77765</td>\n",
       "      <td>Superior @ Box House</td>\n",
       "      <td>417504</td>\n",
       "      <td>The Box House Hotel</td>\n",
       "      <td>Brooklyn</td>\n",
       "      <td>Greenpoint</td>\n",
       "      <td>40.73777</td>\n",
       "      <td>-73.95366</td>\n",
       "      <td>Hotel room</td>\n",
       "      <td>308</td>\n",
       "      <td>2</td>\n",
       "      <td>42</td>\n",
       "      <td>217</td>\n",
       "      <td>51</td>\n",
       "      <td>2</td>\n",
       "      <td>104</td>\n",
       "      <td>4</td>\n",
       "    </tr>\n",
       "    <tr>\n",
       "      <th>1</th>\n",
       "      <td>2539</td>\n",
       "      <td>Clean &amp; quiet apt home by the park</td>\n",
       "      <td>2787</td>\n",
       "      <td>John</td>\n",
       "      <td>Brooklyn</td>\n",
       "      <td>Kensington</td>\n",
       "      <td>40.64529</td>\n",
       "      <td>-73.97238</td>\n",
       "      <td>Private room</td>\n",
       "      <td>299</td>\n",
       "      <td>30</td>\n",
       "      <td>9</td>\n",
       "      <td>356</td>\n",
       "      <td>1419</td>\n",
       "      <td>2</td>\n",
       "      <td>122</td>\n",
       "      <td>2</td>\n",
       "    </tr>\n",
       "    <tr>\n",
       "      <th>2</th>\n",
       "      <td>45910</td>\n",
       "      <td>Beautiful Queens Brownstone! - 5BR</td>\n",
       "      <td>204539</td>\n",
       "      <td>Mark</td>\n",
       "      <td>Queens</td>\n",
       "      <td>Ridgewood</td>\n",
       "      <td>40.70309</td>\n",
       "      <td>-73.89963</td>\n",
       "      <td>Entire home/apt</td>\n",
       "      <td>425</td>\n",
       "      <td>30</td>\n",
       "      <td>13</td>\n",
       "      <td>365</td>\n",
       "      <td>1030</td>\n",
       "      <td>3</td>\n",
       "      <td>185</td>\n",
       "      <td>1</td>\n",
       "    </tr>\n",
       "    <tr>\n",
       "      <th>3</th>\n",
       "      <td>45936</td>\n",
       "      <td>Couldn't Be Closer To Columbia Uni</td>\n",
       "      <td>867225</td>\n",
       "      <td>Rahul</td>\n",
       "      <td>Manhattan</td>\n",
       "      <td>Morningside Heights</td>\n",
       "      <td>40.80630</td>\n",
       "      <td>-73.95985</td>\n",
       "      <td>Private room</td>\n",
       "      <td>75</td>\n",
       "      <td>31</td>\n",
       "      <td>135</td>\n",
       "      <td>219</td>\n",
       "      <td>58</td>\n",
       "      <td>1</td>\n",
       "      <td>146</td>\n",
       "      <td>2</td>\n",
       "    </tr>\n",
       "    <tr>\n",
       "      <th>4</th>\n",
       "      <td>80493</td>\n",
       "      <td>Cozy room in East Village with AC</td>\n",
       "      <td>434987</td>\n",
       "      <td>Jennifer</td>\n",
       "      <td>Manhattan</td>\n",
       "      <td>East Village</td>\n",
       "      <td>40.72322</td>\n",
       "      <td>-73.98615</td>\n",
       "      <td>Private room</td>\n",
       "      <td>55</td>\n",
       "      <td>2</td>\n",
       "      <td>207</td>\n",
       "      <td>132</td>\n",
       "      <td>25</td>\n",
       "      <td>1</td>\n",
       "      <td>70</td>\n",
       "      <td>2</td>\n",
       "    </tr>\n",
       "  </tbody>\n",
       "</table>\n",
       "</div>"
      ],
      "text/plain": [
       "      id                                name  host_id            host_name  \\\n",
       "0  77765                Superior @ Box House   417504  The Box House Hotel   \n",
       "1   2539  Clean & quiet apt home by the park     2787                 John   \n",
       "2  45910  Beautiful Queens Brownstone! - 5BR   204539                 Mark   \n",
       "3  45936  Couldn't Be Closer To Columbia Uni   867225                Rahul   \n",
       "4  80493   Cozy room in East Village with AC   434987             Jennifer   \n",
       "\n",
       "     borough         neighborhood  latitude  longitude        room_type  \\\n",
       "0   Brooklyn           Greenpoint  40.73777  -73.95366       Hotel room   \n",
       "1   Brooklyn           Kensington  40.64529  -73.97238     Private room   \n",
       "2     Queens            Ridgewood  40.70309  -73.89963  Entire home/apt   \n",
       "3  Manhattan  Morningside Heights  40.80630  -73.95985     Private room   \n",
       "4  Manhattan         East Village  40.72322  -73.98615     Private room   \n",
       "\n",
       "   price  minimum_nights  number_of_reviews  availability_365  \\\n",
       "0    308               2                 42               217   \n",
       "1    299              30                  9               356   \n",
       "2    425              30                 13               365   \n",
       "3     75              31                135               219   \n",
       "4     55               2                207               132   \n",
       "\n",
       "   days_since_last_review  borough_num  neighborhood_num  room_type_num  \n",
       "0                      51            2               104              4  \n",
       "1                    1419            2               122              2  \n",
       "2                    1030            3               185              1  \n",
       "3                      58            1               146              2  \n",
       "4                      25            1                70              2  "
      ]
     },
     "execution_count": 43,
     "metadata": {},
     "output_type": "execute_result"
    }
   ],
   "source": [
    "# Create custom encoding for the room type\n",
    "room_type_num = {\n",
    "   \"Entire home/apt\": 1,\n",
    "   \"Private room\": 2,\n",
    "   \"Shared room\": 3,\n",
    "   \"Hotel room\": 4,\n",
    "}\n",
    "\n",
    "listings_df[\"room_type_num\"] = listings_df[\"room_type\"].apply(lambda x: room_type_num[x])\n",
    "listings_df.head()"
   ]
  },
  {
   "cell_type": "code",
   "execution_count": 44,
   "id": "fc7f002e",
   "metadata": {},
   "outputs": [
    {
     "data": {
      "text/html": [
       "<div>\n",
       "<style scoped>\n",
       "    .dataframe tbody tr th:only-of-type {\n",
       "        vertical-align: middle;\n",
       "    }\n",
       "\n",
       "    .dataframe tbody tr th {\n",
       "        vertical-align: top;\n",
       "    }\n",
       "\n",
       "    .dataframe thead th {\n",
       "        text-align: right;\n",
       "    }\n",
       "</style>\n",
       "<table border=\"1\" class=\"dataframe\">\n",
       "  <thead>\n",
       "    <tr style=\"text-align: right;\">\n",
       "      <th></th>\n",
       "      <th>id</th>\n",
       "      <th>name</th>\n",
       "      <th>host_id</th>\n",
       "      <th>host_name</th>\n",
       "      <th>latitude</th>\n",
       "      <th>longitude</th>\n",
       "      <th>price</th>\n",
       "      <th>minimum_nights</th>\n",
       "      <th>number_of_reviews</th>\n",
       "      <th>availability_365</th>\n",
       "      <th>days_since_last_review</th>\n",
       "      <th>borough_num</th>\n",
       "      <th>neighborhood_num</th>\n",
       "      <th>room_type_num</th>\n",
       "    </tr>\n",
       "  </thead>\n",
       "  <tbody>\n",
       "    <tr>\n",
       "      <th>0</th>\n",
       "      <td>77765</td>\n",
       "      <td>Superior @ Box House</td>\n",
       "      <td>417504</td>\n",
       "      <td>The Box House Hotel</td>\n",
       "      <td>40.73777</td>\n",
       "      <td>-73.95366</td>\n",
       "      <td>308</td>\n",
       "      <td>2</td>\n",
       "      <td>42</td>\n",
       "      <td>217</td>\n",
       "      <td>51</td>\n",
       "      <td>2</td>\n",
       "      <td>104</td>\n",
       "      <td>4</td>\n",
       "    </tr>\n",
       "    <tr>\n",
       "      <th>1</th>\n",
       "      <td>2539</td>\n",
       "      <td>Clean &amp; quiet apt home by the park</td>\n",
       "      <td>2787</td>\n",
       "      <td>John</td>\n",
       "      <td>40.64529</td>\n",
       "      <td>-73.97238</td>\n",
       "      <td>299</td>\n",
       "      <td>30</td>\n",
       "      <td>9</td>\n",
       "      <td>356</td>\n",
       "      <td>1419</td>\n",
       "      <td>2</td>\n",
       "      <td>122</td>\n",
       "      <td>2</td>\n",
       "    </tr>\n",
       "    <tr>\n",
       "      <th>2</th>\n",
       "      <td>45910</td>\n",
       "      <td>Beautiful Queens Brownstone! - 5BR</td>\n",
       "      <td>204539</td>\n",
       "      <td>Mark</td>\n",
       "      <td>40.70309</td>\n",
       "      <td>-73.89963</td>\n",
       "      <td>425</td>\n",
       "      <td>30</td>\n",
       "      <td>13</td>\n",
       "      <td>365</td>\n",
       "      <td>1030</td>\n",
       "      <td>3</td>\n",
       "      <td>185</td>\n",
       "      <td>1</td>\n",
       "    </tr>\n",
       "    <tr>\n",
       "      <th>3</th>\n",
       "      <td>45936</td>\n",
       "      <td>Couldn't Be Closer To Columbia Uni</td>\n",
       "      <td>867225</td>\n",
       "      <td>Rahul</td>\n",
       "      <td>40.80630</td>\n",
       "      <td>-73.95985</td>\n",
       "      <td>75</td>\n",
       "      <td>31</td>\n",
       "      <td>135</td>\n",
       "      <td>219</td>\n",
       "      <td>58</td>\n",
       "      <td>1</td>\n",
       "      <td>146</td>\n",
       "      <td>2</td>\n",
       "    </tr>\n",
       "    <tr>\n",
       "      <th>4</th>\n",
       "      <td>80493</td>\n",
       "      <td>Cozy room in East Village with AC</td>\n",
       "      <td>434987</td>\n",
       "      <td>Jennifer</td>\n",
       "      <td>40.72322</td>\n",
       "      <td>-73.98615</td>\n",
       "      <td>55</td>\n",
       "      <td>2</td>\n",
       "      <td>207</td>\n",
       "      <td>132</td>\n",
       "      <td>25</td>\n",
       "      <td>1</td>\n",
       "      <td>70</td>\n",
       "      <td>2</td>\n",
       "    </tr>\n",
       "  </tbody>\n",
       "</table>\n",
       "</div>"
      ],
      "text/plain": [
       "      id                                name  host_id            host_name  \\\n",
       "0  77765                Superior @ Box House   417504  The Box House Hotel   \n",
       "1   2539  Clean & quiet apt home by the park     2787                 John   \n",
       "2  45910  Beautiful Queens Brownstone! - 5BR   204539                 Mark   \n",
       "3  45936  Couldn't Be Closer To Columbia Uni   867225                Rahul   \n",
       "4  80493   Cozy room in East Village with AC   434987             Jennifer   \n",
       "\n",
       "   latitude  longitude  price  minimum_nights  number_of_reviews  \\\n",
       "0  40.73777  -73.95366    308               2                 42   \n",
       "1  40.64529  -73.97238    299              30                  9   \n",
       "2  40.70309  -73.89963    425              30                 13   \n",
       "3  40.80630  -73.95985     75              31                135   \n",
       "4  40.72322  -73.98615     55               2                207   \n",
       "\n",
       "   availability_365  days_since_last_review  borough_num  neighborhood_num  \\\n",
       "0               217                      51            2               104   \n",
       "1               356                    1419            2               122   \n",
       "2               365                    1030            3               185   \n",
       "3               219                      58            1               146   \n",
       "4               132                      25            1                70   \n",
       "\n",
       "   room_type_num  \n",
       "0              4  \n",
       "1              2  \n",
       "2              1  \n",
       "3              2  \n",
       "4              2  "
      ]
     },
     "execution_count": 44,
     "metadata": {},
     "output_type": "execute_result"
    }
   ],
   "source": [
    "# Drop original columns\n",
    "listings_df = listings_df.drop([\"borough\", \"neighborhood\", \"room_type\"], axis=1)\n",
    "listings_df.head()"
   ]
  },
  {
   "cell_type": "code",
   "execution_count": 45,
   "id": "b8f7171f",
   "metadata": {},
   "outputs": [
    {
     "data": {
      "text/html": [
       "<div>\n",
       "<style scoped>\n",
       "    .dataframe tbody tr th:only-of-type {\n",
       "        vertical-align: middle;\n",
       "    }\n",
       "\n",
       "    .dataframe tbody tr th {\n",
       "        vertical-align: top;\n",
       "    }\n",
       "\n",
       "    .dataframe thead th {\n",
       "        text-align: right;\n",
       "    }\n",
       "</style>\n",
       "<table border=\"1\" class=\"dataframe\">\n",
       "  <thead>\n",
       "    <tr style=\"text-align: right;\">\n",
       "      <th></th>\n",
       "      <th>id</th>\n",
       "      <th>name</th>\n",
       "      <th>host_id</th>\n",
       "      <th>host_name</th>\n",
       "      <th>latitude</th>\n",
       "      <th>longitude</th>\n",
       "      <th>price</th>\n",
       "      <th>minimum_nights</th>\n",
       "      <th>number_of_reviews</th>\n",
       "      <th>availability_365</th>\n",
       "      <th>days_since_last_review</th>\n",
       "      <th>borough</th>\n",
       "      <th>neighborhood</th>\n",
       "      <th>room_type</th>\n",
       "    </tr>\n",
       "  </thead>\n",
       "  <tbody>\n",
       "    <tr>\n",
       "      <th>0</th>\n",
       "      <td>77765</td>\n",
       "      <td>Superior @ Box House</td>\n",
       "      <td>417504</td>\n",
       "      <td>The Box House Hotel</td>\n",
       "      <td>40.737770</td>\n",
       "      <td>-73.953660</td>\n",
       "      <td>308</td>\n",
       "      <td>2</td>\n",
       "      <td>42</td>\n",
       "      <td>217</td>\n",
       "      <td>51</td>\n",
       "      <td>2</td>\n",
       "      <td>104</td>\n",
       "      <td>4</td>\n",
       "    </tr>\n",
       "    <tr>\n",
       "      <th>1</th>\n",
       "      <td>2539</td>\n",
       "      <td>Clean &amp; quiet apt home by the park</td>\n",
       "      <td>2787</td>\n",
       "      <td>John</td>\n",
       "      <td>40.645290</td>\n",
       "      <td>-73.972380</td>\n",
       "      <td>299</td>\n",
       "      <td>30</td>\n",
       "      <td>9</td>\n",
       "      <td>356</td>\n",
       "      <td>1419</td>\n",
       "      <td>2</td>\n",
       "      <td>122</td>\n",
       "      <td>2</td>\n",
       "    </tr>\n",
       "    <tr>\n",
       "      <th>2</th>\n",
       "      <td>45910</td>\n",
       "      <td>Beautiful Queens Brownstone! - 5BR</td>\n",
       "      <td>204539</td>\n",
       "      <td>Mark</td>\n",
       "      <td>40.703090</td>\n",
       "      <td>-73.899630</td>\n",
       "      <td>425</td>\n",
       "      <td>30</td>\n",
       "      <td>13</td>\n",
       "      <td>365</td>\n",
       "      <td>1030</td>\n",
       "      <td>3</td>\n",
       "      <td>185</td>\n",
       "      <td>1</td>\n",
       "    </tr>\n",
       "    <tr>\n",
       "      <th>3</th>\n",
       "      <td>45936</td>\n",
       "      <td>Couldn't Be Closer To Columbia Uni</td>\n",
       "      <td>867225</td>\n",
       "      <td>Rahul</td>\n",
       "      <td>40.806300</td>\n",
       "      <td>-73.959850</td>\n",
       "      <td>75</td>\n",
       "      <td>31</td>\n",
       "      <td>135</td>\n",
       "      <td>219</td>\n",
       "      <td>58</td>\n",
       "      <td>1</td>\n",
       "      <td>146</td>\n",
       "      <td>2</td>\n",
       "    </tr>\n",
       "    <tr>\n",
       "      <th>4</th>\n",
       "      <td>80493</td>\n",
       "      <td>Cozy room in East Village with AC</td>\n",
       "      <td>434987</td>\n",
       "      <td>Jennifer</td>\n",
       "      <td>40.723220</td>\n",
       "      <td>-73.986150</td>\n",
       "      <td>55</td>\n",
       "      <td>2</td>\n",
       "      <td>207</td>\n",
       "      <td>132</td>\n",
       "      <td>25</td>\n",
       "      <td>1</td>\n",
       "      <td>70</td>\n",
       "      <td>2</td>\n",
       "    </tr>\n",
       "    <tr>\n",
       "      <th>...</th>\n",
       "      <td>...</td>\n",
       "      <td>...</td>\n",
       "      <td>...</td>\n",
       "      <td>...</td>\n",
       "      <td>...</td>\n",
       "      <td>...</td>\n",
       "      <td>...</td>\n",
       "      <td>...</td>\n",
       "      <td>...</td>\n",
       "      <td>...</td>\n",
       "      <td>...</td>\n",
       "      <td>...</td>\n",
       "      <td>...</td>\n",
       "      <td>...</td>\n",
       "    </tr>\n",
       "    <tr>\n",
       "      <th>31500</th>\n",
       "      <td>628769808856889664</td>\n",
       "      <td>Two bedroom apartment in Hoboken New Jersey.</td>\n",
       "      <td>14468718</td>\n",
       "      <td>Burak</td>\n",
       "      <td>40.740227</td>\n",
       "      <td>-74.027504</td>\n",
       "      <td>410</td>\n",
       "      <td>3</td>\n",
       "      <td>2</td>\n",
       "      <td>0</td>\n",
       "      <td>40</td>\n",
       "      <td>1</td>\n",
       "      <td>229</td>\n",
       "      <td>1</td>\n",
       "    </tr>\n",
       "    <tr>\n",
       "      <th>31501</th>\n",
       "      <td>27577588</td>\n",
       "      <td>Luxury Studio ON Grove Street E0C - B1CA</td>\n",
       "      <td>37412692</td>\n",
       "      <td>Kim</td>\n",
       "      <td>40.718220</td>\n",
       "      <td>-74.037940</td>\n",
       "      <td>135</td>\n",
       "      <td>365</td>\n",
       "      <td>2</td>\n",
       "      <td>365</td>\n",
       "      <td>1087</td>\n",
       "      <td>1</td>\n",
       "      <td>74</td>\n",
       "      <td>1</td>\n",
       "    </tr>\n",
       "    <tr>\n",
       "      <th>31502</th>\n",
       "      <td>654151117629853651</td>\n",
       "      <td>Lovely 3- bedroom apartment</td>\n",
       "      <td>117540494</td>\n",
       "      <td>Miriam</td>\n",
       "      <td>40.647244</td>\n",
       "      <td>-73.720088</td>\n",
       "      <td>180</td>\n",
       "      <td>1</td>\n",
       "      <td>5</td>\n",
       "      <td>0</td>\n",
       "      <td>14</td>\n",
       "      <td>3</td>\n",
       "      <td>191</td>\n",
       "      <td>1</td>\n",
       "    </tr>\n",
       "    <tr>\n",
       "      <th>31503</th>\n",
       "      <td>553754115911961053</td>\n",
       "      <td>Trendy 3-bedroom apartment near Manhattan</td>\n",
       "      <td>15048320</td>\n",
       "      <td>India</td>\n",
       "      <td>40.787320</td>\n",
       "      <td>-74.004470</td>\n",
       "      <td>240</td>\n",
       "      <td>5</td>\n",
       "      <td>18</td>\n",
       "      <td>152</td>\n",
       "      <td>16</td>\n",
       "      <td>1</td>\n",
       "      <td>221</td>\n",
       "      <td>1</td>\n",
       "    </tr>\n",
       "    <tr>\n",
       "      <th>31504</th>\n",
       "      <td>48971505</td>\n",
       "      <td>Just Blocks to Grove PATH and JC Med Ctr</td>\n",
       "      <td>46201</td>\n",
       "      <td>J</td>\n",
       "      <td>40.718350</td>\n",
       "      <td>-74.044160</td>\n",
       "      <td>40</td>\n",
       "      <td>1</td>\n",
       "      <td>15</td>\n",
       "      <td>0</td>\n",
       "      <td>317</td>\n",
       "      <td>1</td>\n",
       "      <td>74</td>\n",
       "      <td>2</td>\n",
       "    </tr>\n",
       "  </tbody>\n",
       "</table>\n",
       "<p>31505 rows × 14 columns</p>\n",
       "</div>"
      ],
      "text/plain": [
       "                       id                                          name  \\\n",
       "0                   77765                          Superior @ Box House   \n",
       "1                    2539            Clean & quiet apt home by the park   \n",
       "2                   45910            Beautiful Queens Brownstone! - 5BR   \n",
       "3                   45936            Couldn't Be Closer To Columbia Uni   \n",
       "4                   80493             Cozy room in East Village with AC   \n",
       "...                   ...                                           ...   \n",
       "31500  628769808856889664  Two bedroom apartment in Hoboken New Jersey.   \n",
       "31501            27577588      Luxury Studio ON Grove Street E0C - B1CA   \n",
       "31502  654151117629853651                   Lovely 3- bedroom apartment   \n",
       "31503  553754115911961053     Trendy 3-bedroom apartment near Manhattan   \n",
       "31504            48971505      Just Blocks to Grove PATH and JC Med Ctr   \n",
       "\n",
       "         host_id            host_name   latitude  longitude  price  \\\n",
       "0         417504  The Box House Hotel  40.737770 -73.953660    308   \n",
       "1           2787                 John  40.645290 -73.972380    299   \n",
       "2         204539                 Mark  40.703090 -73.899630    425   \n",
       "3         867225                Rahul  40.806300 -73.959850     75   \n",
       "4         434987             Jennifer  40.723220 -73.986150     55   \n",
       "...          ...                  ...        ...        ...    ...   \n",
       "31500   14468718                Burak  40.740227 -74.027504    410   \n",
       "31501   37412692                  Kim  40.718220 -74.037940    135   \n",
       "31502  117540494               Miriam  40.647244 -73.720088    180   \n",
       "31503   15048320                India  40.787320 -74.004470    240   \n",
       "31504      46201                    J  40.718350 -74.044160     40   \n",
       "\n",
       "       minimum_nights  number_of_reviews  availability_365  \\\n",
       "0                   2                 42               217   \n",
       "1                  30                  9               356   \n",
       "2                  30                 13               365   \n",
       "3                  31                135               219   \n",
       "4                   2                207               132   \n",
       "...               ...                ...               ...   \n",
       "31500               3                  2                 0   \n",
       "31501             365                  2               365   \n",
       "31502               1                  5                 0   \n",
       "31503               5                 18               152   \n",
       "31504               1                 15                 0   \n",
       "\n",
       "       days_since_last_review  borough  neighborhood  room_type  \n",
       "0                          51        2           104          4  \n",
       "1                        1419        2           122          2  \n",
       "2                        1030        3           185          1  \n",
       "3                          58        1           146          2  \n",
       "4                          25        1            70          2  \n",
       "...                       ...      ...           ...        ...  \n",
       "31500                      40        1           229          1  \n",
       "31501                    1087        1            74          1  \n",
       "31502                      14        3           191          1  \n",
       "31503                      16        1           221          1  \n",
       "31504                     317        1            74          2  \n",
       "\n",
       "[31505 rows x 14 columns]"
      ]
     },
     "execution_count": 45,
     "metadata": {},
     "output_type": "execute_result"
    }
   ],
   "source": [
    "# Rename columns\n",
    "listings_df.rename(columns = {\"borough_num\":\"borough\", \"neighborhood_num\":\"neighborhood\", \"room_type_num\":\"room_type\"}, inplace = True)\n",
    "listings_df"
   ]
  },
  {
   "cell_type": "code",
   "execution_count": 46,
   "id": "7d60a2ba",
   "metadata": {},
   "outputs": [
    {
     "data": {
      "text/plain": [
       "(31505, 1)"
      ]
     },
     "execution_count": 46,
     "metadata": {},
     "output_type": "execute_result"
    }
   ],
   "source": [
    "#format the data to meet the requirements of the scikit learn library \n",
    "#Linear Regression number of reviews and price\n",
    "X = listings_df.number_of_reviews.values.reshape(-1, 1)\n",
    "X[:5]\n",
    "X.shape"
   ]
  },
  {
   "cell_type": "code",
   "execution_count": 47,
   "id": "e43974b9",
   "metadata": {},
   "outputs": [
    {
     "data": {
      "text/plain": [
       "0        308\n",
       "1        299\n",
       "2        425\n",
       "3         75\n",
       "4         55\n",
       "        ... \n",
       "31500    410\n",
       "31501    135\n",
       "31502    180\n",
       "31503    240\n",
       "31504     40\n",
       "Name: price, Length: 31505, dtype: int64"
      ]
     },
     "execution_count": 47,
     "metadata": {},
     "output_type": "execute_result"
    }
   ],
   "source": [
    "y = listings_df.price\n",
    "y"
   ]
  },
  {
   "cell_type": "code",
   "execution_count": 48,
   "id": "311d22a4",
   "metadata": {},
   "outputs": [
    {
     "data": {
      "text/plain": [
       "(23628, 1)"
      ]
     },
     "execution_count": 48,
     "metadata": {},
     "output_type": "execute_result"
    }
   ],
   "source": [
    "X_train, X_test, Y_train, Y_test = train_test_split(X,y,random_state=1)\n",
    "X_train.shape"
   ]
  },
  {
   "cell_type": "code",
   "execution_count": 49,
   "id": "7dbf5ed7",
   "metadata": {},
   "outputs": [],
   "source": [
    "model = LinearRegression()"
   ]
  },
  {
   "cell_type": "code",
   "execution_count": 50,
   "id": "978edb3b",
   "metadata": {},
   "outputs": [
    {
     "data": {
      "text/plain": [
       "LinearRegression()"
      ]
     },
     "execution_count": 50,
     "metadata": {},
     "output_type": "execute_result"
    }
   ],
   "source": [
    "model.fit(X, y)"
   ]
  },
  {
   "cell_type": "code",
   "execution_count": 66,
   "id": "6f2f37ff",
   "metadata": {},
   "outputs": [
    {
     "name": "stdout",
     "output_type": "stream",
     "text": [
      "(7877,)\n"
     ]
    }
   ],
   "source": [
    "y_pred = model.predict(X_test)\n",
    "print(y_pred.shape)"
   ]
  },
  {
   "cell_type": "code",
   "execution_count": 69,
   "id": "af58b948",
   "metadata": {},
   "outputs": [
    {
     "data": {
      "image/png": "[encoded data removed]",
      "text/plain": [
       "<Figure size 640x480 with 1 Axes>"
      ]
     },
     "metadata": {},
     "output_type": "display_data"
    }
   ],
   "source": [
    "plt.scatter(X_test, Y_test)\n",
    "plt.plot(X_test, y_pred, color='red')\n",
    "plt.show()"
   ]
  },
  {
   "cell_type": "code",
   "execution_count": 70,
   "id": "5543402c",
   "metadata": {},
   "outputs": [
    {
     "name": "stdout",
     "output_type": "stream",
     "text": [
      "[-0.08873725]\n",
      "186.07991395745594\n"
     ]
    }
   ],
   "source": [
    "print(model.coef_)\n",
    "print(model.intercept_)"
   ]
  },
  {
   "cell_type": "code",
   "execution_count": 71,
   "id": "96c44476",
   "metadata": {},
   "outputs": [
    {
     "name": "stdout",
     "output_type": "stream",
     "text": [
      "MSE:  61499.53927450242\n",
      "RMSE:  30749.76963725121\n"
     ]
    }
   ],
   "source": [
    "mse = mean_squared_error(Y_test, y_pred)\n",
    "print(\"MSE: \",mse)\n",
    "print(\"RMSE: \", mse*(1/2.0))"
   ]
  },
  {
   "cell_type": "code",
   "execution_count": 72,
   "id": "58dfc56e",
   "metadata": {},
   "outputs": [
    {
     "data": {
      "text/plain": [
       "(31505, 1)"
      ]
     },
     "execution_count": 72,
     "metadata": {},
     "output_type": "execute_result"
    }
   ],
   "source": [
    "#Linear Regression last reviewed date and price\n",
    "X = listings_df.days_since_last_review.values.reshape(-1, 1)\n",
    "X[:5]\n",
    "X.shape"
   ]
  },
  {
   "cell_type": "code",
   "execution_count": 73,
   "id": "974c1c79",
   "metadata": {},
   "outputs": [
    {
     "data": {
      "text/plain": [
       "0        308\n",
       "1        299\n",
       "2        425\n",
       "3         75\n",
       "4         55\n",
       "        ... \n",
       "31500    410\n",
       "31501    135\n",
       "31502    180\n",
       "31503    240\n",
       "31504     40\n",
       "Name: price, Length: 31505, dtype: int64"
      ]
     },
     "execution_count": 73,
     "metadata": {},
     "output_type": "execute_result"
    }
   ],
   "source": [
    "y = listings_df.price\n",
    "y"
   ]
  },
  {
   "cell_type": "code",
   "execution_count": 74,
   "id": "7d2dcdf1",
   "metadata": {},
   "outputs": [
    {
     "data": {
      "text/plain": [
       "(23628, 1)"
      ]
     },
     "execution_count": 74,
     "metadata": {},
     "output_type": "execute_result"
    }
   ],
   "source": [
    "X_train, X_test, Y_train, Y_test = train_test_split(X,y,random_state=1)\n",
    "X_train.shape"
   ]
  },
  {
   "cell_type": "code",
   "execution_count": 75,
   "id": "dfdf300a",
   "metadata": {},
   "outputs": [],
   "source": [
    "model = LinearRegression()"
   ]
  },
  {
   "cell_type": "code",
   "execution_count": 76,
   "id": "e45baf58",
   "metadata": {},
   "outputs": [
    {
     "data": {
      "text/plain": [
       "LinearRegression()"
      ]
     },
     "execution_count": 76,
     "metadata": {},
     "output_type": "execute_result"
    }
   ],
   "source": [
    "model.fit(X, y)"
   ]
  },
  {
   "cell_type": "code",
   "execution_count": 81,
   "id": "d10d7b66",
   "metadata": {},
   "outputs": [
    {
     "name": "stdout",
     "output_type": "stream",
     "text": [
      "(7877,)\n"
     ]
    }
   ],
   "source": [
    "y_pred = model.predict(X_test)\n",
    "print(y_pred.shape)"
   ]
  },
  {
   "cell_type": "code",
   "execution_count": 83,
   "id": "25d943b4",
   "metadata": {},
   "outputs": [
    {
     "data": {
      "image/png": "[encoded data removed]",
      "text/plain": [
       "<Figure size 640x480 with 1 Axes>"
      ]
     },
     "metadata": {},
     "output_type": "display_data"
    }
   ],
   "source": [
    "plt.scatter(X_test, Y_test)\n",
    "plt.plot(X_test, y_pred, color='red')\n",
    "plt.show()"
   ]
  },
  {
   "cell_type": "code",
   "execution_count": 84,
   "id": "ed703a9c",
   "metadata": {},
   "outputs": [
    {
     "name": "stdout",
     "output_type": "stream",
     "text": [
      "[-0.02199426]\n",
      "194.77715850896996\n"
     ]
    }
   ],
   "source": [
    "print(model.coef_)\n",
    "print(model.intercept_)"
   ]
  },
  {
   "cell_type": "code",
   "execution_count": 85,
   "id": "16916fb2",
   "metadata": {},
   "outputs": [
    {
     "name": "stdout",
     "output_type": "stream",
     "text": [
      "MSE:  61132.2410901104\n",
      "RMSE:  30566.1205450552\n"
     ]
    }
   ],
   "source": [
    "mse = mean_squared_error(Y_test, y_pred)\n",
    "print(\"MSE: \",mse)\n",
    "print(\"RMSE: \", mse*(1/2.0))"
   ]
  },
  {
   "cell_type": "code",
   "execution_count": null,
   "id": "f8028628",
   "metadata": {},
   "outputs": [],
   "source": [
    "#Linear Regression Room Type and Price "
   ]
  },
  {
   "cell_type": "code",
   "execution_count": 100,
   "id": "5502987f",
   "metadata": {},
   "outputs": [
    {
     "data": {
      "text/plain": [
       "(31505, 1)"
      ]
     },
     "execution_count": 100,
     "metadata": {},
     "output_type": "execute_result"
    }
   ],
   "source": [
    "X = listings_df.room_type.values.reshape(-1, 1)\n",
    "X[:5]\n",
    "X.shape"
   ]
  },
  {
   "cell_type": "code",
   "execution_count": 101,
   "id": "bae5f016",
   "metadata": {},
   "outputs": [
    {
     "data": {
      "text/plain": [
       "0        308\n",
       "1        299\n",
       "2        425\n",
       "3         75\n",
       "4         55\n",
       "        ... \n",
       "31500    410\n",
       "31501    135\n",
       "31502    180\n",
       "31503    240\n",
       "31504     40\n",
       "Name: price, Length: 31505, dtype: int64"
      ]
     },
     "execution_count": 101,
     "metadata": {},
     "output_type": "execute_result"
    }
   ],
   "source": [
    "y = listings_df.price\n",
    "y"
   ]
  },
  {
   "cell_type": "code",
   "execution_count": 102,
   "id": "c8bc22c5",
   "metadata": {},
   "outputs": [
    {
     "data": {
      "text/plain": [
       "(23628, 1)"
      ]
     },
     "execution_count": 102,
     "metadata": {},
     "output_type": "execute_result"
    }
   ],
   "source": [
    "X_train, X_test, Y_train, Y_test = train_test_split(X,y,random_state=1)\n",
    "X_train.shape"
   ]
  },
  {
   "cell_type": "code",
   "execution_count": 103,
   "id": "1158a7cc",
   "metadata": {},
   "outputs": [],
   "source": [
    "model = LinearRegression()"
   ]
  },
  {
   "cell_type": "code",
   "execution_count": 104,
   "id": "4a9c7d57",
   "metadata": {},
   "outputs": [
    {
     "data": {
      "text/plain": [
       "LinearRegression()"
      ]
     },
     "execution_count": 104,
     "metadata": {},
     "output_type": "execute_result"
    }
   ],
   "source": [
    "model.fit(X, y)"
   ]
  },
  {
   "cell_type": "code",
   "execution_count": 105,
   "id": "eff95c6f",
   "metadata": {},
   "outputs": [
    {
     "name": "stdout",
     "output_type": "stream",
     "text": [
      "(7877,)\n"
     ]
    }
   ],
   "source": [
    "y_pred = model.predict(X_test)\n",
    "print(y_pred.shape)"
   ]
  },
  {
   "cell_type": "code",
   "execution_count": 106,
   "id": "b5020fe8",
   "metadata": {},
   "outputs": [
    {
     "data": {
      "image/png": "[encoded data removed]",
      "text/plain": [
       "<Figure size 640x480 with 1 Axes>"
      ]
     },
     "metadata": {},
     "output_type": "display_data"
    }
   ],
   "source": [
    "plt.scatter(X_test, Y_test)\n",
    "plt.plot(X_test, y_pred, color='red')\n",
    "plt.show()"
   ]
  },
  {
   "cell_type": "code",
   "execution_count": 107,
   "id": "f0729f1c",
   "metadata": {},
   "outputs": [
    {
     "name": "stdout",
     "output_type": "stream",
     "text": [
      "[-91.93008369]\n",
      "315.4548562591682\n"
     ]
    }
   ],
   "source": [
    "print(model.coef_)\n",
    "print(model.intercept_)"
   ]
  },
  {
   "cell_type": "code",
   "execution_count": 108,
   "id": "cdbfcf9b",
   "metadata": {},
   "outputs": [
    {
     "name": "stdout",
     "output_type": "stream",
     "text": [
      "MSE:  58804.62157037436\n",
      "RMSE:  29402.31078518718\n"
     ]
    }
   ],
   "source": [
    "mse = mean_squared_error(Y_test, y_pred)\n",
    "print(\"MSE: \",mse)\n",
    "print(\"RMSE: \", mse*(1/2.0))"
   ]
  },
  {
   "cell_type": "code",
   "execution_count": null,
   "id": "d171c9a6",
   "metadata": {},
   "outputs": [],
   "source": [
    "#Linear Regression Borough and Price "
   ]
  },
  {
   "cell_type": "code",
   "execution_count": 109,
   "id": "0a213a08",
   "metadata": {},
   "outputs": [
    {
     "data": {
      "text/plain": [
       "(31505, 1)"
      ]
     },
     "execution_count": 109,
     "metadata": {},
     "output_type": "execute_result"
    }
   ],
   "source": [
    "X = listings_df.borough.values.reshape(-1, 1)\n",
    "X[:5]\n",
    "X.shape"
   ]
  },
  {
   "cell_type": "code",
   "execution_count": 110,
   "id": "84edfffe",
   "metadata": {},
   "outputs": [
    {
     "data": {
      "text/plain": [
       "0        308\n",
       "1        299\n",
       "2        425\n",
       "3         75\n",
       "4         55\n",
       "        ... \n",
       "31500    410\n",
       "31501    135\n",
       "31502    180\n",
       "31503    240\n",
       "31504     40\n",
       "Name: price, Length: 31505, dtype: int64"
      ]
     },
     "execution_count": 110,
     "metadata": {},
     "output_type": "execute_result"
    }
   ],
   "source": [
    "y = listings_df.price\n",
    "y"
   ]
  },
  {
   "cell_type": "code",
   "execution_count": 111,
   "id": "dd0f5527",
   "metadata": {},
   "outputs": [
    {
     "data": {
      "text/plain": [
       "(23628, 1)"
      ]
     },
     "execution_count": 111,
     "metadata": {},
     "output_type": "execute_result"
    }
   ],
   "source": [
    "X_train, X_test, Y_train, Y_test = train_test_split(X,y,random_state=1)\n",
    "X_train.shape"
   ]
  },
  {
   "cell_type": "code",
   "execution_count": 112,
   "id": "691bce18",
   "metadata": {},
   "outputs": [],
   "source": [
    "model = LinearRegression()"
   ]
  },
  {
   "cell_type": "code",
   "execution_count": 113,
   "id": "d457b37e",
   "metadata": {},
   "outputs": [
    {
     "data": {
      "text/plain": [
       "LinearRegression()"
      ]
     },
     "execution_count": 113,
     "metadata": {},
     "output_type": "execute_result"
    }
   ],
   "source": [
    "model.fit(X, y)"
   ]
  },
  {
   "cell_type": "code",
   "execution_count": 114,
   "id": "be4eeb75",
   "metadata": {},
   "outputs": [
    {
     "name": "stdout",
     "output_type": "stream",
     "text": [
      "(7877,)\n"
     ]
    }
   ],
   "source": [
    "y_pred = model.predict(X_test)\n",
    "print(y_pred.shape)"
   ]
  },
  {
   "cell_type": "code",
   "execution_count": 115,
   "id": "8a4dc199",
   "metadata": {},
   "outputs": [
    {
     "data": {
      "image/png": "[encoded data removed]",
      "text/plain": [
       "<Figure size 640x480 with 1 Axes>"
      ]
     },
     "metadata": {},
     "output_type": "display_data"
    }
   ],
   "source": [
    "plt.scatter(X_test, Y_test)\n",
    "plt.plot(X_test, y_pred, color='red')\n",
    "plt.show()"
   ]
  },
  {
   "cell_type": "code",
   "execution_count": 116,
   "id": "6ccc5467",
   "metadata": {},
   "outputs": [
    {
     "name": "stdout",
     "output_type": "stream",
     "text": [
      "[-46.14008509]\n",
      "269.4820288715884\n"
     ]
    }
   ],
   "source": [
    "print(model.coef_)\n",
    "print(model.intercept_)"
   ]
  },
  {
   "cell_type": "code",
   "execution_count": 117,
   "id": "f17092aa",
   "metadata": {},
   "outputs": [
    {
     "name": "stdout",
     "output_type": "stream",
     "text": [
      "MSE:  59998.53032285653\n",
      "RMSE:  29999.265161428266\n"
     ]
    }
   ],
   "source": [
    "mse = mean_squared_error(Y_test, y_pred)\n",
    "print(\"MSE: \",mse)\n",
    "print(\"RMSE: \", mse*(1/2.0))"
   ]
  },
  {
   "cell_type": "code",
   "execution_count": 118,
   "id": "482b4939",
   "metadata": {},
   "outputs": [],
   "source": [
    "#Linear Regression Neighborhood and Price"
   ]
  },
  {
   "cell_type": "code",
   "execution_count": 119,
   "id": "e8d5c1ec",
   "metadata": {},
   "outputs": [
    {
     "data": {
      "text/plain": [
       "(31505, 1)"
      ]
     },
     "execution_count": 119,
     "metadata": {},
     "output_type": "execute_result"
    }
   ],
   "source": [
    "X = listings_df.neighborhood.values.reshape(-1, 1)\n",
    "X[:5]\n",
    "X.shape"
   ]
  },
  {
   "cell_type": "code",
   "execution_count": 120,
   "id": "4bedccb8",
   "metadata": {},
   "outputs": [
    {
     "data": {
      "text/plain": [
       "0        308\n",
       "1        299\n",
       "2        425\n",
       "3         75\n",
       "4         55\n",
       "        ... \n",
       "31500    410\n",
       "31501    135\n",
       "31502    180\n",
       "31503    240\n",
       "31504     40\n",
       "Name: price, Length: 31505, dtype: int64"
      ]
     },
     "execution_count": 120,
     "metadata": {},
     "output_type": "execute_result"
    }
   ],
   "source": [
    "y = listings_df.price\n",
    "y"
   ]
  },
  {
   "cell_type": "code",
   "execution_count": 121,
   "id": "d5963c8b",
   "metadata": {},
   "outputs": [
    {
     "data": {
      "text/plain": [
       "(23628, 1)"
      ]
     },
     "execution_count": 121,
     "metadata": {},
     "output_type": "execute_result"
    }
   ],
   "source": [
    "X_train, X_test, Y_train, Y_test = train_test_split(X,y,random_state=1)\n",
    "X_train.shape"
   ]
  },
  {
   "cell_type": "code",
   "execution_count": 122,
   "id": "e14cfabd",
   "metadata": {},
   "outputs": [],
   "source": [
    "model = LinearRegression()"
   ]
  },
  {
   "cell_type": "code",
   "execution_count": 123,
   "id": "ef8ee358",
   "metadata": {},
   "outputs": [
    {
     "data": {
      "text/plain": [
       "LinearRegression()"
      ]
     },
     "execution_count": 123,
     "metadata": {},
     "output_type": "execute_result"
    }
   ],
   "source": [
    "model.fit(X, y)"
   ]
  },
  {
   "cell_type": "code",
   "execution_count": 124,
   "id": "0721c760",
   "metadata": {},
   "outputs": [
    {
     "name": "stdout",
     "output_type": "stream",
     "text": [
      "(7877,)\n"
     ]
    }
   ],
   "source": [
    "y_pred = model.predict(X_test)\n",
    "print(y_pred.shape)"
   ]
  },
  {
   "cell_type": "code",
   "execution_count": 125,
   "id": "c5328479",
   "metadata": {},
   "outputs": [
    {
     "data": {
      "image/png": "[encoded data removed]",
      "text/plain": [
       "<Figure size 640x480 with 1 Axes>"
      ]
     },
     "metadata": {},
     "output_type": "display_data"
    }
   ],
   "source": [
    "plt.scatter(X_test, Y_test)\n",
    "plt.plot(X_test, y_pred, color='red')\n",
    "plt.show()"
   ]
  },
  {
   "cell_type": "code",
   "execution_count": 126,
   "id": "41fc8f19",
   "metadata": {},
   "outputs": [
    {
     "name": "stdout",
     "output_type": "stream",
     "text": [
      "[0.20889991]\n",
      "158.39109979249355\n"
     ]
    }
   ],
   "source": [
    "print(model.coef_)\n",
    "print(model.intercept_)"
   ]
  },
  {
   "cell_type": "code",
   "execution_count": 127,
   "id": "6196b2c7",
   "metadata": {},
   "outputs": [
    {
     "name": "stdout",
     "output_type": "stream",
     "text": [
      "MSE:  61291.1957878268\n",
      "RMSE:  30645.5978939134\n"
     ]
    }
   ],
   "source": [
    "mse = mean_squared_error(Y_test, y_pred)\n",
    "print(\"MSE: \",mse)\n",
    "print(\"RMSE: \", mse*(1/2.0))"
   ]
  },
  {
   "cell_type": "markdown",
   "id": "4b947c6d",
   "metadata": {},
   "source": [
    "### Random Forest"
   ]
  },
  {
   "cell_type": "code",
   "execution_count": 128,
   "id": "d85a7655",
   "metadata": {},
   "outputs": [],
   "source": [
    "from sklearn.ensemble import RandomForestRegressor\n",
    "from sklearn.datasets import make_regression\n",
    "from sklearn.metrics import mean_squared_error\n",
    "from sklearn.model_selection import train_test_split\n",
    "from sklearn.preprocessing import scale\n",
    "import matplotlib.pyplot as plt\n",
    "from sklearn import set_config "
   ]
  },
  {
   "cell_type": "code",
   "execution_count": 129,
   "id": "903f3086",
   "metadata": {},
   "outputs": [],
   "source": [
    "#Random Forest Regression between Price and Borough, Neighborhood, and Room Type\n",
    "X = listings_df.borough.values.reshape(-1,1)\n",
    "y = listings_df.price.values.reshape(-1,1) "
   ]
  },
  {
   "cell_type": "code",
   "execution_count": 130,
   "id": "6f8ec92b",
   "metadata": {},
   "outputs": [],
   "source": [
    "X = listings_df[[\"borough\", \"neighborhood\", \"room_type\", \"number_of_reviews\", \"days_since_last_review\"]]"
   ]
  },
  {
   "cell_type": "code",
   "execution_count": 131,
   "id": "e246def8",
   "metadata": {},
   "outputs": [],
   "source": [
    "X_train, X_test, Y_train, y_test = train_test_split(X, y, test_size=0.30, random_state=42)"
   ]
  },
  {
   "cell_type": "code",
   "execution_count": 132,
   "id": "d627c6df",
   "metadata": {},
   "outputs": [
    {
     "name": "stderr",
     "output_type": "stream",
     "text": [
      "C:\\Users\\cacurran\\Anaconda3\\envs\\mlenv\\lib\\site-packages\\ipykernel_launcher.py:2: DataConversionWarning: A column-vector y was passed when a 1d array was expected. Please change the shape of y to (n_samples,), for example using ravel().\n",
      "  \n"
     ]
    },
    {
     "data": {
      "text/plain": [
       "RandomForestRegressor()"
      ]
     },
     "execution_count": 132,
     "metadata": {},
     "output_type": "execute_result"
    }
   ],
   "source": [
    "RandomForestRegModel = RandomForestRegressor()\n",
    "RandomForestRegModel.fit(X_train, Y_train)"
   ]
  },
  {
   "cell_type": "code",
   "execution_count": 133,
   "id": "55efef17",
   "metadata": {},
   "outputs": [
    {
     "data": {
      "text/plain": [
       "array([555.46,  94.1 , 283.28, ...,  67.04, 244.99, 153.14])"
      ]
     },
     "execution_count": 133,
     "metadata": {},
     "output_type": "execute_result"
    }
   ],
   "source": [
    "y_pred = RandomForestRegModel.predict(X_test)\n",
    "y_pred"
   ]
  },
  {
   "cell_type": "code",
   "execution_count": 134,
   "id": "0d9e7014",
   "metadata": {},
   "outputs": [
    {
     "name": "stdout",
     "output_type": "stream",
     "text": [
      "MSE:  92675.35940720829\n",
      "RMSE:  46337.679703604146\n"
     ]
    }
   ],
   "source": [
    "mse = mean_squared_error(y_test, y_pred)\n",
    "print(\"MSE: \",mse)\n",
    "print(\"RMSE: \", mse*(1/2.0))"
   ]
  },
  {
   "cell_type": "code",
   "execution_count": null,
   "id": "e61ad893",
   "metadata": {},
   "outputs": [],
   "source": []
  }
 ],
 "metadata": {
  "kernelspec": {
   "display_name": "Python 3 (ipykernel)",
   "language": "python",
   "name": "python3"
  },
  "language_info": {
   "codemirror_mode": {
    "name": "ipython",
    "version": 3
   },
   "file_extension": ".py",
   "mimetype": "text/x-python",
   "name": "python",
   "nbconvert_exporter": "python",
   "pygments_lexer": "ipython3",
   "version": "3.7.15"
  }
 },
 "nbformat": 4,
 "nbformat_minor": 5
}
